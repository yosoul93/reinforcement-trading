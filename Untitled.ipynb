{
 "cells": [
  {
   "cell_type": "code",
   "execution_count": 1,
   "id": "bda2b464",
   "metadata": {},
   "outputs": [],
   "source": [
    "import gym\n",
    "import torch\n",
    "import pandas as pd\n",
    "import os\n",
    "\n",
    "os.environ[\"CUDA_DEVICE_ORDER\"]=\"PCI_BUS_ID\"\n",
    "os.environ[\"CUDA_VISIBLE_DEVICES\"]=\"0,1,2\"   \n",
    "\n",
    "from elegantrl.run import *\n",
    "from neo_finrl.ccxt.data_fetch_ccxt import ccxt_fetch_data\n",
    "from neo_finrl.ccxt.preprocess_ccxt import preprocess_btc\n",
    "\n",
    "from neo_finrl.ccxt.env_btc_ccxt import BitcoinEnv\n",
    "from elegantrl.agent import *"
   ]
  },
  {
   "cell_type": "code",
   "execution_count": 2,
   "id": "ace8b880",
   "metadata": {},
   "outputs": [],
   "source": [
    "# url = 'C:/Users/yosou/Documents/BooksWithCode/Binance/Deep Learning/LSTM_stock_price_predictor-master/btc_create.csv'\n",
    "url = 'C:/Users/yosou/Documents/BooksWithCode/Binance/Deep Learning/LSTM_stock_price_predictor-master/code/Data/FUTURES/DOGEUSDT/DOGEUSDT-1m-data.csv'"
   ]
  },
  {
   "cell_type": "code",
   "execution_count": 3,
   "id": "d8b05028",
   "metadata": {},
   "outputs": [],
   "source": [
    "df = pd.read_csv(url, parse_dates=True).fillna(value=0)\n",
    "# df = pd.read_csv(url, index_col=0, parse_dates=True).fillna(value=0)\n",
    "df['time'] = df['timestamp']\n",
    "df =  df.drop(['timestamp'], axis=1)\n",
    "# df = df.set_index('time')\n",
    "# df = df[['open', 'high', 'low', 'close', 'BTCTUSD', 'BTCPAX', 'BTCUSDC', 'BTCBUSD', 'var_open', 'var_high', 'var_low', 'var_close', 'arima_close', 'kama', 'volume_weighted_average_price', 'donchian_channel_mband', 'ema_indicator', 'ichimoku_a', 'ichimoku_conversion_line', 'sma_indicator', 'cumulative_return', 'OHLC4', 'EMA_10_OHLC4', 'HL2', 'WCP', 'LDECAY_5', 'HA_open', 'HA_high', 'HA_low', 'HA_close', 'google_trend']]"
   ]
  },
  {
   "cell_type": "code",
   "execution_count": 4,
   "id": "a4f47a6a",
   "metadata": {},
   "outputs": [],
   "source": [
    "# '''data_fetch'''\n",
    "# df = ccxt_fetch_data(start = '20210602 00:00:00', end = '20210605 00:00:00',\n",
    "#                     pair = 'BTC/USDT', period = '1m')"
   ]
  },
  {
   "cell_type": "code",
   "execution_count": 5,
   "id": "bfc1a6d7",
   "metadata": {},
   "outputs": [
    {
     "data": {
      "text/html": [
       "<div>\n",
       "<style scoped>\n",
       "    .dataframe tbody tr th:only-of-type {\n",
       "        vertical-align: middle;\n",
       "    }\n",
       "\n",
       "    .dataframe tbody tr th {\n",
       "        vertical-align: top;\n",
       "    }\n",
       "\n",
       "    .dataframe thead th {\n",
       "        text-align: right;\n",
       "    }\n",
       "</style>\n",
       "<table border=\"1\" class=\"dataframe\">\n",
       "  <thead>\n",
       "    <tr style=\"text-align: right;\">\n",
       "      <th></th>\n",
       "      <th>open</th>\n",
       "      <th>high</th>\n",
       "      <th>low</th>\n",
       "      <th>close</th>\n",
       "      <th>volume</th>\n",
       "      <th>time</th>\n",
       "    </tr>\n",
       "  </thead>\n",
       "  <tbody>\n",
       "    <tr>\n",
       "      <th>0</th>\n",
       "      <td>0.003989</td>\n",
       "      <td>0.003989</td>\n",
       "      <td>0.003340</td>\n",
       "      <td>0.003818</td>\n",
       "      <td>12825395.0</td>\n",
       "      <td>2020-07-10 09:00:00</td>\n",
       "    </tr>\n",
       "    <tr>\n",
       "      <th>1</th>\n",
       "      <td>0.003818</td>\n",
       "      <td>0.003850</td>\n",
       "      <td>0.003800</td>\n",
       "      <td>0.003834</td>\n",
       "      <td>26184602.0</td>\n",
       "      <td>2020-07-10 09:01:00</td>\n",
       "    </tr>\n",
       "    <tr>\n",
       "      <th>2</th>\n",
       "      <td>0.003834</td>\n",
       "      <td>0.003850</td>\n",
       "      <td>0.003824</td>\n",
       "      <td>0.003835</td>\n",
       "      <td>19672817.0</td>\n",
       "      <td>2020-07-10 09:02:00</td>\n",
       "    </tr>\n",
       "    <tr>\n",
       "      <th>3</th>\n",
       "      <td>0.003835</td>\n",
       "      <td>0.003849</td>\n",
       "      <td>0.003756</td>\n",
       "      <td>0.003795</td>\n",
       "      <td>35368505.0</td>\n",
       "      <td>2020-07-10 09:03:00</td>\n",
       "    </tr>\n",
       "    <tr>\n",
       "      <th>4</th>\n",
       "      <td>0.003796</td>\n",
       "      <td>0.003807</td>\n",
       "      <td>0.003721</td>\n",
       "      <td>0.003806</td>\n",
       "      <td>24561333.0</td>\n",
       "      <td>2020-07-10 09:04:00</td>\n",
       "    </tr>\n",
       "    <tr>\n",
       "      <th>...</th>\n",
       "      <td>...</td>\n",
       "      <td>...</td>\n",
       "      <td>...</td>\n",
       "      <td>...</td>\n",
       "      <td>...</td>\n",
       "      <td>...</td>\n",
       "    </tr>\n",
       "    <tr>\n",
       "      <th>474631</th>\n",
       "      <td>0.375890</td>\n",
       "      <td>0.378000</td>\n",
       "      <td>0.375790</td>\n",
       "      <td>0.377880</td>\n",
       "      <td>3772150.0</td>\n",
       "      <td>2021-06-04 23:31:00</td>\n",
       "    </tr>\n",
       "    <tr>\n",
       "      <th>474632</th>\n",
       "      <td>0.377880</td>\n",
       "      <td>0.378100</td>\n",
       "      <td>0.376780</td>\n",
       "      <td>0.377860</td>\n",
       "      <td>3337419.0</td>\n",
       "      <td>2021-06-04 23:32:00</td>\n",
       "    </tr>\n",
       "    <tr>\n",
       "      <th>474633</th>\n",
       "      <td>0.377880</td>\n",
       "      <td>0.377930</td>\n",
       "      <td>0.377000</td>\n",
       "      <td>0.377000</td>\n",
       "      <td>1338441.0</td>\n",
       "      <td>2021-06-04 23:33:00</td>\n",
       "    </tr>\n",
       "    <tr>\n",
       "      <th>474634</th>\n",
       "      <td>0.377000</td>\n",
       "      <td>0.377190</td>\n",
       "      <td>0.376600</td>\n",
       "      <td>0.376680</td>\n",
       "      <td>2210899.0</td>\n",
       "      <td>2021-06-04 23:34:00</td>\n",
       "    </tr>\n",
       "    <tr>\n",
       "      <th>474635</th>\n",
       "      <td>0.376700</td>\n",
       "      <td>0.377540</td>\n",
       "      <td>0.376700</td>\n",
       "      <td>0.377500</td>\n",
       "      <td>1591135.0</td>\n",
       "      <td>2021-06-04 23:35:00</td>\n",
       "    </tr>\n",
       "  </tbody>\n",
       "</table>\n",
       "<p>474636 rows × 6 columns</p>\n",
       "</div>"
      ],
      "text/plain": [
       "            open      high       low     close      volume  \\\n",
       "0       0.003989  0.003989  0.003340  0.003818  12825395.0   \n",
       "1       0.003818  0.003850  0.003800  0.003834  26184602.0   \n",
       "2       0.003834  0.003850  0.003824  0.003835  19672817.0   \n",
       "3       0.003835  0.003849  0.003756  0.003795  35368505.0   \n",
       "4       0.003796  0.003807  0.003721  0.003806  24561333.0   \n",
       "...          ...       ...       ...       ...         ...   \n",
       "474631  0.375890  0.378000  0.375790  0.377880   3772150.0   \n",
       "474632  0.377880  0.378100  0.376780  0.377860   3337419.0   \n",
       "474633  0.377880  0.377930  0.377000  0.377000   1338441.0   \n",
       "474634  0.377000  0.377190  0.376600  0.376680   2210899.0   \n",
       "474635  0.376700  0.377540  0.376700  0.377500   1591135.0   \n",
       "\n",
       "                       time  \n",
       "0       2020-07-10 09:00:00  \n",
       "1       2020-07-10 09:01:00  \n",
       "2       2020-07-10 09:02:00  \n",
       "3       2020-07-10 09:03:00  \n",
       "4       2020-07-10 09:04:00  \n",
       "...                     ...  \n",
       "474631  2021-06-04 23:31:00  \n",
       "474632  2021-06-04 23:32:00  \n",
       "474633  2021-06-04 23:33:00  \n",
       "474634  2021-06-04 23:34:00  \n",
       "474635  2021-06-04 23:35:00  \n",
       "\n",
       "[474636 rows x 6 columns]"
      ]
     },
     "execution_count": 5,
     "metadata": {},
     "output_type": "execute_result"
    }
   ],
   "source": [
    "# df = df[362360:]\n",
    "df"
   ]
  },
  {
   "cell_type": "code",
   "execution_count": 6,
   "id": "fd8e6996",
   "metadata": {},
   "outputs": [
    {
     "name": "stdout",
     "output_type": "stream",
     "text": [
      "                  date       tic      open      high       low     close  \\\n",
      "0  2020-07-10 09:00:00  BTC/USDT  0.003989  0.003989  0.003340  0.003818   \n",
      "1  2020-07-10 09:01:00  BTC/USDT  0.003818  0.003850  0.003800  0.003834   \n",
      "2  2020-07-10 09:02:00  BTC/USDT  0.003834  0.003850  0.003824  0.003835   \n",
      "3  2020-07-10 09:03:00  BTC/USDT  0.003835  0.003849  0.003756  0.003795   \n",
      "4  2020-07-10 09:04:00  BTC/USDT  0.003796  0.003807  0.003721  0.003806   \n",
      "\n",
      "       volume  \n",
      "0  12825395.0  \n",
      "1  26184602.0  \n",
      "2  19672817.0  \n",
      "3  35368505.0  \n",
      "4  24561333.0  \n",
      "Successfully added technical indicators\n"
     ]
    }
   ],
   "source": [
    "data_ary = preprocess_btc(df)"
   ]
  },
  {
   "cell_type": "code",
   "execution_count": 7,
   "id": "a0a4ebc2",
   "metadata": {},
   "outputs": [
    {
     "data": {
      "text/plain": [
       "(474636, 13)"
      ]
     },
     "execution_count": 7,
     "metadata": {},
     "output_type": "execute_result"
    }
   ],
   "source": [
    "data_ary.shape"
   ]
  },
  {
   "cell_type": "code",
   "execution_count": 8,
   "id": "efd0b42b",
   "metadata": {},
   "outputs": [],
   "source": [
    "args = Arguments(agent=None, env=None, gpu_id=[0,1,2])\n",
    "args.agent = AgentDDPG()"
   ]
  },
  {
   "cell_type": "code",
   "execution_count": 9,
   "id": "a15c2bc8",
   "metadata": {},
   "outputs": [],
   "source": [
    "'''choose environment'''\n",
    "args.env = BitcoinEnv(processed_ary = data_ary, if_train=True)\n",
    "args.env_eval = BitcoinEnv(processed_ary = data_ary, if_train=False)\n",
    "args.net_dim = 2 ** 9 # change a default hyper-parameters\n",
    "args.batch_size = 2 ** 8"
   ]
  },
  {
   "cell_type": "code",
   "execution_count": 10,
   "id": "0a41d2af",
   "metadata": {},
   "outputs": [
    {
     "name": "stdout",
     "output_type": "stream",
     "text": [
      "| GPU id: 0,1,2, cwd: ./AgentDDPG/BitcoinEnv_0\n",
      "| Remove history\n",
      "ID      Step      MaxR |    avgR      stdR       objA      objC |  avgS  stdS\n"
     ]
    },
    {
     "ename": "RuntimeError",
     "evalue": "Sizes of tensors must match except in dimension 1. Got 3 and 15 (The offending index is 0)",
     "output_type": "error",
     "traceback": [
      "\u001b[1;31m---------------------------------------------------------------------------\u001b[0m",
      "\u001b[1;31mRuntimeError\u001b[0m                              Traceback (most recent call last)",
      "\u001b[1;32m<ipython-input-10-6bee4bdaf7af>\u001b[0m in \u001b[0;36m<module>\u001b[1;34m\u001b[0m\n\u001b[1;32m----> 1\u001b[1;33m \u001b[0mtrain_and_evaluate\u001b[0m\u001b[1;33m(\u001b[0m\u001b[0margs\u001b[0m\u001b[1;33m)\u001b[0m\u001b[1;33m\u001b[0m\u001b[1;33m\u001b[0m\u001b[0m\n\u001b[0m",
      "\u001b[1;32m~\\Documents\\BooksWithCode\\Binance\\Deep Learning\\Reinforcement-Learning\\NeoFinRL-main\\elegantrl\\run.py\u001b[0m in \u001b[0;36mtrain_and_evaluate\u001b[1;34m(***failed resolving arguments***)\u001b[0m\n\u001b[0;32m    152\u001b[0m             \u001b[0msteps\u001b[0m \u001b[1;33m=\u001b[0m \u001b[0mexplore_before_training\u001b[0m\u001b[1;33m(\u001b[0m\u001b[0menv\u001b[0m\u001b[1;33m,\u001b[0m \u001b[0mbuffer\u001b[0m\u001b[1;33m,\u001b[0m \u001b[0mtarget_step\u001b[0m\u001b[1;33m,\u001b[0m \u001b[0mreward_scale\u001b[0m\u001b[1;33m,\u001b[0m \u001b[0mgamma\u001b[0m\u001b[1;33m)\u001b[0m\u001b[1;33m\u001b[0m\u001b[1;33m\u001b[0m\u001b[0m\n\u001b[0;32m    153\u001b[0m \u001b[1;33m\u001b[0m\u001b[0m\n\u001b[1;32m--> 154\u001b[1;33m         \u001b[0magent\u001b[0m\u001b[1;33m.\u001b[0m\u001b[0mupdate_net\u001b[0m\u001b[1;33m(\u001b[0m\u001b[0mbuffer\u001b[0m\u001b[1;33m,\u001b[0m \u001b[0mtarget_step\u001b[0m\u001b[1;33m,\u001b[0m \u001b[0mbatch_size\u001b[0m\u001b[1;33m,\u001b[0m \u001b[0mrepeat_times\u001b[0m\u001b[1;33m)\u001b[0m  \u001b[1;31m# pre-training and hard update\u001b[0m\u001b[1;33m\u001b[0m\u001b[1;33m\u001b[0m\u001b[0m\n\u001b[0m\u001b[0;32m    155\u001b[0m         \u001b[0magent\u001b[0m\u001b[1;33m.\u001b[0m\u001b[0mact_target\u001b[0m\u001b[1;33m.\u001b[0m\u001b[0mload_state_dict\u001b[0m\u001b[1;33m(\u001b[0m\u001b[0magent\u001b[0m\u001b[1;33m.\u001b[0m\u001b[0mact\u001b[0m\u001b[1;33m.\u001b[0m\u001b[0mstate_dict\u001b[0m\u001b[1;33m(\u001b[0m\u001b[1;33m)\u001b[0m\u001b[1;33m)\u001b[0m \u001b[1;32mif\u001b[0m \u001b[0mgetattr\u001b[0m\u001b[1;33m(\u001b[0m\u001b[0magent\u001b[0m\u001b[1;33m,\u001b[0m \u001b[1;34m'act_target'\u001b[0m\u001b[1;33m,\u001b[0m \u001b[1;32mNone\u001b[0m\u001b[1;33m)\u001b[0m \u001b[1;32melse\u001b[0m \u001b[1;32mNone\u001b[0m\u001b[1;33m\u001b[0m\u001b[1;33m\u001b[0m\u001b[0m\n\u001b[0;32m    156\u001b[0m         \u001b[0magent\u001b[0m\u001b[1;33m.\u001b[0m\u001b[0mcri_target\u001b[0m\u001b[1;33m.\u001b[0m\u001b[0mload_state_dict\u001b[0m\u001b[1;33m(\u001b[0m\u001b[0magent\u001b[0m\u001b[1;33m.\u001b[0m\u001b[0mcri\u001b[0m\u001b[1;33m.\u001b[0m\u001b[0mstate_dict\u001b[0m\u001b[1;33m(\u001b[0m\u001b[1;33m)\u001b[0m\u001b[1;33m)\u001b[0m \u001b[1;32mif\u001b[0m \u001b[0mgetattr\u001b[0m\u001b[1;33m(\u001b[0m\u001b[0magent\u001b[0m\u001b[1;33m,\u001b[0m \u001b[1;34m'cri_target'\u001b[0m\u001b[1;33m,\u001b[0m \u001b[1;32mNone\u001b[0m\u001b[1;33m)\u001b[0m \u001b[1;32melse\u001b[0m \u001b[1;32mNone\u001b[0m\u001b[1;33m\u001b[0m\u001b[1;33m\u001b[0m\u001b[0m\n",
      "\u001b[1;32m~\\Documents\\BooksWithCode\\Binance\\Deep Learning\\Reinforcement-Learning\\NeoFinRL-main\\elegantrl\\agent.py\u001b[0m in \u001b[0;36mupdate_net\u001b[1;34m(self, buffer, target_step, batch_size, repeat_times)\u001b[0m\n\u001b[0;32m    322\u001b[0m         \u001b[0mobj_critic\u001b[0m \u001b[1;33m=\u001b[0m \u001b[0mobj_actor\u001b[0m \u001b[1;33m=\u001b[0m \u001b[1;32mNone\u001b[0m  \u001b[1;31m# just for print return\u001b[0m\u001b[1;33m\u001b[0m\u001b[1;33m\u001b[0m\u001b[0m\n\u001b[0;32m    323\u001b[0m         \u001b[1;32mfor\u001b[0m \u001b[0m_\u001b[0m \u001b[1;32min\u001b[0m \u001b[0mrange\u001b[0m\u001b[1;33m(\u001b[0m\u001b[0mint\u001b[0m\u001b[1;33m(\u001b[0m\u001b[0mtarget_step\u001b[0m \u001b[1;33m*\u001b[0m \u001b[0mrepeat_times\u001b[0m\u001b[1;33m)\u001b[0m\u001b[1;33m)\u001b[0m\u001b[1;33m:\u001b[0m\u001b[1;33m\u001b[0m\u001b[1;33m\u001b[0m\u001b[0m\n\u001b[1;32m--> 324\u001b[1;33m             \u001b[0mobj_critic\u001b[0m\u001b[1;33m,\u001b[0m \u001b[0mstate\u001b[0m \u001b[1;33m=\u001b[0m \u001b[0mself\u001b[0m\u001b[1;33m.\u001b[0m\u001b[0mget_obj_critic\u001b[0m\u001b[1;33m(\u001b[0m\u001b[0mbuffer\u001b[0m\u001b[1;33m,\u001b[0m \u001b[0mbatch_size\u001b[0m\u001b[1;33m)\u001b[0m\u001b[1;33m\u001b[0m\u001b[1;33m\u001b[0m\u001b[0m\n\u001b[0m\u001b[0;32m    325\u001b[0m             \u001b[0mself\u001b[0m\u001b[1;33m.\u001b[0m\u001b[0mcri_optimizer\u001b[0m\u001b[1;33m.\u001b[0m\u001b[0mzero_grad\u001b[0m\u001b[1;33m(\u001b[0m\u001b[1;33m)\u001b[0m\u001b[1;33m\u001b[0m\u001b[1;33m\u001b[0m\u001b[0m\n\u001b[0;32m    326\u001b[0m             \u001b[0mobj_critic\u001b[0m\u001b[1;33m.\u001b[0m\u001b[0mbackward\u001b[0m\u001b[1;33m(\u001b[0m\u001b[1;33m)\u001b[0m\u001b[1;33m\u001b[0m\u001b[1;33m\u001b[0m\u001b[0m\n",
      "\u001b[1;32m~\\Documents\\BooksWithCode\\Binance\\Deep Learning\\Reinforcement-Learning\\NeoFinRL-main\\elegantrl\\agent.py\u001b[0m in \u001b[0;36mget_obj_critic_raw\u001b[1;34m(self, buffer, batch_size)\u001b[0m\n\u001b[0;32m    339\u001b[0m         \u001b[1;32mwith\u001b[0m \u001b[0mtorch\u001b[0m\u001b[1;33m.\u001b[0m\u001b[0mno_grad\u001b[0m\u001b[1;33m(\u001b[0m\u001b[1;33m)\u001b[0m\u001b[1;33m:\u001b[0m\u001b[1;33m\u001b[0m\u001b[1;33m\u001b[0m\u001b[0m\n\u001b[0;32m    340\u001b[0m             \u001b[0mreward\u001b[0m\u001b[1;33m,\u001b[0m \u001b[0mmask\u001b[0m\u001b[1;33m,\u001b[0m \u001b[0maction\u001b[0m\u001b[1;33m,\u001b[0m \u001b[0mstate\u001b[0m\u001b[1;33m,\u001b[0m \u001b[0mnext_s\u001b[0m \u001b[1;33m=\u001b[0m \u001b[0mbuffer\u001b[0m\u001b[1;33m.\u001b[0m\u001b[0msample_batch\u001b[0m\u001b[1;33m(\u001b[0m\u001b[0mbatch_size\u001b[0m\u001b[1;33m)\u001b[0m\u001b[1;33m\u001b[0m\u001b[1;33m\u001b[0m\u001b[0m\n\u001b[1;32m--> 341\u001b[1;33m             \u001b[0mnext_q\u001b[0m \u001b[1;33m=\u001b[0m \u001b[0mself\u001b[0m\u001b[1;33m.\u001b[0m\u001b[0mcri_target\u001b[0m\u001b[1;33m(\u001b[0m\u001b[0mnext_s\u001b[0m\u001b[1;33m,\u001b[0m \u001b[0mself\u001b[0m\u001b[1;33m.\u001b[0m\u001b[0mact_target\u001b[0m\u001b[1;33m(\u001b[0m\u001b[0mnext_s\u001b[0m\u001b[1;33m)\u001b[0m\u001b[1;33m)\u001b[0m\u001b[1;33m\u001b[0m\u001b[1;33m\u001b[0m\u001b[0m\n\u001b[0m\u001b[0;32m    342\u001b[0m             \u001b[0mq_label\u001b[0m \u001b[1;33m=\u001b[0m \u001b[0mreward\u001b[0m \u001b[1;33m+\u001b[0m \u001b[0mmask\u001b[0m \u001b[1;33m*\u001b[0m \u001b[0mnext_q\u001b[0m\u001b[1;33m\u001b[0m\u001b[1;33m\u001b[0m\u001b[0m\n\u001b[0;32m    343\u001b[0m         \u001b[0mq_value\u001b[0m \u001b[1;33m=\u001b[0m \u001b[0mself\u001b[0m\u001b[1;33m.\u001b[0m\u001b[0mcri\u001b[0m\u001b[1;33m(\u001b[0m\u001b[0mstate\u001b[0m\u001b[1;33m,\u001b[0m \u001b[0maction\u001b[0m\u001b[1;33m)\u001b[0m\u001b[1;33m\u001b[0m\u001b[1;33m\u001b[0m\u001b[0m\n",
      "\u001b[1;32m~\\anaconda3\\envs\\finance\\lib\\site-packages\\torch\\nn\\modules\\module.py\u001b[0m in \u001b[0;36m_call_impl\u001b[1;34m(self, *input, **kwargs)\u001b[0m\n\u001b[0;32m    887\u001b[0m             \u001b[0mresult\u001b[0m \u001b[1;33m=\u001b[0m \u001b[0mself\u001b[0m\u001b[1;33m.\u001b[0m\u001b[0m_slow_forward\u001b[0m\u001b[1;33m(\u001b[0m\u001b[1;33m*\u001b[0m\u001b[0minput\u001b[0m\u001b[1;33m,\u001b[0m \u001b[1;33m**\u001b[0m\u001b[0mkwargs\u001b[0m\u001b[1;33m)\u001b[0m\u001b[1;33m\u001b[0m\u001b[1;33m\u001b[0m\u001b[0m\n\u001b[0;32m    888\u001b[0m         \u001b[1;32melse\u001b[0m\u001b[1;33m:\u001b[0m\u001b[1;33m\u001b[0m\u001b[1;33m\u001b[0m\u001b[0m\n\u001b[1;32m--> 889\u001b[1;33m             \u001b[0mresult\u001b[0m \u001b[1;33m=\u001b[0m \u001b[0mself\u001b[0m\u001b[1;33m.\u001b[0m\u001b[0mforward\u001b[0m\u001b[1;33m(\u001b[0m\u001b[1;33m*\u001b[0m\u001b[0minput\u001b[0m\u001b[1;33m,\u001b[0m \u001b[1;33m**\u001b[0m\u001b[0mkwargs\u001b[0m\u001b[1;33m)\u001b[0m\u001b[1;33m\u001b[0m\u001b[1;33m\u001b[0m\u001b[0m\n\u001b[0m\u001b[0;32m    890\u001b[0m         for hook in itertools.chain(\n\u001b[0;32m    891\u001b[0m                 \u001b[0m_global_forward_hooks\u001b[0m\u001b[1;33m.\u001b[0m\u001b[0mvalues\u001b[0m\u001b[1;33m(\u001b[0m\u001b[1;33m)\u001b[0m\u001b[1;33m,\u001b[0m\u001b[1;33m\u001b[0m\u001b[1;33m\u001b[0m\u001b[0m\n",
      "\u001b[1;32m~\\Documents\\BooksWithCode\\Binance\\Deep Learning\\Reinforcement-Learning\\NeoFinRL-main\\elegantrl\\net.py\u001b[0m in \u001b[0;36mforward\u001b[1;34m(self, state, action)\u001b[0m\n\u001b[0;32m    245\u001b[0m \u001b[1;33m\u001b[0m\u001b[0m\n\u001b[0;32m    246\u001b[0m     \u001b[1;32mdef\u001b[0m \u001b[0mforward\u001b[0m\u001b[1;33m(\u001b[0m\u001b[0mself\u001b[0m\u001b[1;33m,\u001b[0m \u001b[0mstate\u001b[0m\u001b[1;33m,\u001b[0m \u001b[0maction\u001b[0m\u001b[1;33m)\u001b[0m\u001b[1;33m:\u001b[0m\u001b[1;33m\u001b[0m\u001b[1;33m\u001b[0m\u001b[0m\n\u001b[1;32m--> 247\u001b[1;33m         \u001b[1;32mreturn\u001b[0m \u001b[0mself\u001b[0m\u001b[1;33m.\u001b[0m\u001b[0mnet\u001b[0m\u001b[1;33m(\u001b[0m\u001b[0mtorch\u001b[0m\u001b[1;33m.\u001b[0m\u001b[0mcat\u001b[0m\u001b[1;33m(\u001b[0m\u001b[1;33m(\u001b[0m\u001b[0mstate\u001b[0m\u001b[1;33m,\u001b[0m \u001b[0maction\u001b[0m\u001b[1;33m)\u001b[0m\u001b[1;33m,\u001b[0m \u001b[0mdim\u001b[0m\u001b[1;33m=\u001b[0m\u001b[1;36m0\u001b[0m\u001b[1;33m)\u001b[0m\u001b[1;33m)\u001b[0m  \u001b[1;31m# Q value\u001b[0m\u001b[1;33m\u001b[0m\u001b[1;33m\u001b[0m\u001b[0m\n\u001b[0m\u001b[0;32m    248\u001b[0m \u001b[1;33m\u001b[0m\u001b[0m\n\u001b[0;32m    249\u001b[0m \u001b[1;33m\u001b[0m\u001b[0m\n",
      "\u001b[1;31mRuntimeError\u001b[0m: Sizes of tensors must match except in dimension 1. Got 3 and 15 (The offending index is 0)"
     ]
    }
   ],
   "source": [
    "train_and_evaluate(args)"
   ]
  },
  {
   "cell_type": "code",
   "execution_count": null,
   "id": "3dda6fa5",
   "metadata": {},
   "outputs": [],
   "source": [
    "args = Arguments(agent=None, env=None, gpu_id=[0,1,2])\n",
    "args.agent = AgentDDPG()\n",
    "args.env = BitcoinEnv(processed_ary = data_ary, if_train=False)\n",
    "args.net_dim = 2 ** 9 # change a default hyper-parameters\n",
    "args.batch_size = 2 ** 8\n",
    "args.if_remove = False\n",
    "args.cwd = './AgentDDPG/BitcoinEnv_0'\n",
    "args.init_before_training()"
   ]
  },
  {
   "cell_type": "code",
   "execution_count": null,
   "id": "6276a426",
   "metadata": {},
   "outputs": [],
   "source": [
    "# Draw the graph\n",
    "import matplotlib.pyplot as plt\n",
    "%matplotlib inline\n",
    "\n",
    "BitcoinEnv(processed_ary = data_ary, if_train=False)\\\n",
    ".draw_cumulative_return(self = args.env, _torch = torch)"
   ]
  },
  {
   "cell_type": "code",
   "execution_count": null,
   "id": "556e6ef2",
   "metadata": {},
   "outputs": [],
   "source": []
  }
 ],
 "metadata": {
  "kernelspec": {
   "display_name": "Python 3",
   "language": "python",
   "name": "python3"
  },
  "language_info": {
   "codemirror_mode": {
    "name": "ipython",
    "version": 3
   },
   "file_extension": ".py",
   "mimetype": "text/x-python",
   "name": "python",
   "nbconvert_exporter": "python",
   "pygments_lexer": "ipython3",
   "version": "3.7.1"
  }
 },
 "nbformat": 4,
 "nbformat_minor": 5
}
